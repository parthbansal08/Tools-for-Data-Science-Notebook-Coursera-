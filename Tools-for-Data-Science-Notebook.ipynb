{
 "cells": [
  {
   "cell_type": "markdown",
   "id": "c8378cf1",
   "metadata": {},
   "source": [
    "# Final Project - Tools for Data Science"
   ]
  },
  {
   "cell_type": "markdown",
   "id": "5e4fc4a9",
   "metadata": {},
   "source": [
    "## Introduction\n",
    "This notebook demonstrates key data science concepts, tools, and languages as part of the final project for the course. It includes exercises on Markdown, code cells, and working with data science tools."
   ]
  },
  {
   "cell_type": "markdown",
   "id": "badc6840",
   "metadata": {},
   "source": [
    "## Data Science Languages\n",
    "- Python\n",
    "- R\n",
    "- SQL\n",
    "- Julia\n",
    "- Java\n",
    "- Scala\n",
    "- MATLAB"
   ]
  },
  {
   "cell_type": "markdown",
   "id": "f6bd5453",
   "metadata": {},
   "source": [
    "## Data Science Libraries\n",
    "- NumPy\n",
    "- Pandas\n",
    "- Matplotlib\n",
    "- Scikit-learn\n",
    "- TensorFlow\n",
    "- Keras\n",
    "- PyTorch\n",
    "- SciPy"
   ]
  },
  {
   "cell_type": "markdown",
   "id": "121f0247",
   "metadata": {},
   "source": [
    "## Data Science Tools\n",
    "| Tool            | Purpose               |\n",
    "|-----------------|-----------------------|\n",
    "| Jupyter Notebook | Interactive Coding    |\n",
    "| RStudio         | Statistical Analysis  |\n",
    "| Apache Spark    | Big Data Processing   |\n",
    "| Tableau         | Data Visualization    |\n",
    "| Microsoft Excel | Data Manipulation     |"
   ]
  },
  {
   "cell_type": "markdown",
   "id": "a09b360f",
   "metadata": {},
   "source": [
    "## Arithmetic Expression Examples\n",
    "Below are some examples of basic arithmetic expressions to perform operations like addition and multiplication."
   ]
  },
  {
   "cell_type": "code",
   "execution_count": null,
   "id": "acb8adcc",
   "metadata": {},
   "outputs": [],
   "source": [
    "# Exercise 8: Multiply and Add\n",
    "# Multiply 3 and 4, then add 5\n",
    "result = (3 * 4) + 5\n",
    "print(\"Result of (3 * 4) + 5:\", result)"
   ]
  },
  {
   "cell_type": "code",
   "execution_count": null,
   "id": "d9c4c17c",
   "metadata": {},
   "outputs": [],
   "source": [
    "# Exercise 9: Convert minutes to hours\n",
    "# Convert 200 minutes to hours\n",
    "minutes = 200\n",
    "hours = minutes / 60\n",
    "print(f\"{minutes} minutes is equal to {hours:.2f} hours\")"
   ]
  },
  {
   "cell_type": "markdown",
   "id": "0dd26622",
   "metadata": {},
   "source": [
    "## Objectives\n",
    "- Learn key data science concepts\n",
    "- Explore programming languages and libraries used in data science\n",
    "- Practice Markdown and code cells in JupyterLite\n",
    "- Create and share a complete data science notebook"
   ]
  },
  {
   "cell_type": "markdown",
   "id": "f462e737",
   "metadata": {},
   "source": [
    "## Author\n",
    "Parth Bansal"
   ]
  },
  {
   "cell_type": "code",
   "execution_count": null,
   "id": "00b98319",
   "metadata": {},
   "outputs": [],
   "source": []
  }
 ],
 "metadata": {
  "kernelspec": {
   "display_name": "Python 3 (ipykernel)",
   "language": "python",
   "name": "python3"
  },
  "language_info": {
   "codemirror_mode": {
    "name": "ipython",
    "version": 3
   },
   "file_extension": ".py",
   "mimetype": "text/x-python",
   "name": "python",
   "nbconvert_exporter": "python",
   "pygments_lexer": "ipython3",
   "version": "3.9.13"
  }
 },
 "nbformat": 4,
 "nbformat_minor": 5
}
